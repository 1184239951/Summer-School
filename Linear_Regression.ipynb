{
 "cells": [
  {
   "cell_type": "markdown",
   "metadata": {
    "collapsed": true
   },
   "source": [
    "# Linear Regression 线性回归"
   ]
  },
  {
   "cell_type": "markdown",
   "metadata": {},
   "source": [
    "Name: [Your name]\n",
    "\n",
    "Skeleton framework for you to fill in (Code you need to provide is marked by `###`):"
   ]
  },
  {
   "cell_type": "code",
   "execution_count": 1,
   "metadata": {
    "collapsed": true
   },
   "outputs": [],
   "source": [
    "import scipy.io as sio\n",
    "import numpy as np \n",
    "from numpy.linalg import *\n",
    "import pandas as pd"
   ]
  },
  {
   "cell_type": "code",
   "execution_count": 2,
   "metadata": {
    "collapsed": true
   },
   "outputs": [],
   "source": [
    "def LR_train( x , y , lamb=0.0001 ):\n",
    "    \"\"\"\n",
    "    Function: Calculate the regression coefficient\n",
    "    Input:    \n",
    "              x:    Training data, size: [num_sample dimension]\n",
    "              y:    Training label, size: [num_sample 1]\n",
    "              lamb: The regularization coefficient\n",
    "    Outpyt:   \n",
    "              w:    Regression coefficient\n",
    "    \"\"\"\n",
    "    m, d = x.shape\n",
    "    # The variable m is the number of the training data. \n",
    "    #The variable d is the dimension of the training data.\n",
    "    x = np.column_stack( ((np.ones(m)).T , x) )\n",
    "    \n",
    "    # Your code\n",
    "    # Here you should calculate the weight.\n",
    "    w = ###\n",
    "    \n",
    "    return w"
   ]
  },
  {
   "cell_type": "code",
   "execution_count": 3,
   "metadata": {
    "collapsed": true
   },
   "outputs": [],
   "source": [
    "def LR_test( x , y, w ):\n",
    "    \"\"\"\n",
    "    Function: Predict the testing data\n",
    "    Input:    \n",
    "              x: Testing data, size: [num_sample dimension]\n",
    "              y: Testing label, size: [num_sample 1]\n",
    "              w: Regression coefficient, size: [dimension+1 1]\n",
    "    Output:   \n",
    "              t: Prediction of testing data\n",
    "    \"\"\"\n",
    "    # Predict the testing data\n",
    "    m, d = x.shape\n",
    "    \n",
    "    x = np.column_stack( ((np.ones(m)).T , x) )\n",
    "    # Your code\n",
    "    # Here, the variable t is the prediction of testing data, and you should calculate it.\n",
    "    t = ###\n",
    "    \n",
    "    # Three kinds of errors\n",
    "    er = t - y\n",
    "    MSE = (er**2).mean()                      # Mean Squared Error\n",
    "    MAE = abs(er).mean()                      # Average Absolute Error\n",
    "    SD = np.sqrt((( er-er.mean())**2).mean()) # Error Standard Deviation\n",
    "    \n",
    "    acc = np.equal(np.rint(t), y).mean() * 100\n",
    "    text = \"The Linear Regression's accuracy is %.2f%%.\" %(acc)\n",
    "    print(text)\n",
    "    \n",
    "    obj = pd.Series([MSE,MAE,SD], index=['MSE','MAE','SD'])\n",
    "    print(obj)\n",
    "    \n",
    "    return t"
   ]
  },
  {
   "cell_type": "code",
   "execution_count": 4,
   "metadata": {
    "collapsed": true
   },
   "outputs": [],
   "source": [
    "# Import data\n",
    "data_path = ### \"The path where you store the SpectralClassification data\" ###\n",
    "\n",
    "data=sio.loadmat(data_path + \"SpectralClassificationTrain.mat\") \n",
    "train_x = data['train_x']\n",
    "train_y = data['train_y'][:,0]\n",
    "train_y = np.reshape(data['train_y'][:,0], [-1,1])\n",
    "\n",
    "data=sio.loadmat(data_path + \"SpectralClassificationTest.mat\") \n",
    "test_x = data['test_x']\n",
    "test_y = data['test_y'][:,0]\n",
    "train_y = np.reshape(data['train_y'][:,0], [-1,1])\n",
    "\n",
    "del data"
   ]
  },
  {
   "cell_type": "code",
   "execution_count": 5,
   "metadata": {},
   "outputs": [
    {
     "name": "stdout",
     "output_type": "stream",
     "text": [
      "The Linear Regression's accuracy is 82.50%.\n",
      "MSE    0.264380\n",
      "MAE    0.337140\n",
      "SD     0.495198\n",
      "dtype: float64\n"
     ]
    }
   ],
   "source": [
    "w = LR_tr(train_x, train_y)\n",
    "t = LR_te(test_x , test_y , w)"
   ]
  },
  {
   "cell_type": "code",
   "execution_count": null,
   "metadata": {
    "collapsed": true
   },
   "outputs": [],
   "source": []
  }
 ],
 "metadata": {
  "kernelspec": {
   "display_name": "Python 3",
   "language": "python",
   "name": "python3"
  },
  "language_info": {
   "codemirror_mode": {
    "name": "ipython",
    "version": 3
   },
   "file_extension": ".py",
   "mimetype": "text/x-python",
   "name": "python",
   "nbconvert_exporter": "python",
   "pygments_lexer": "ipython3",
   "version": "3.6.1"
  }
 },
 "nbformat": 4,
 "nbformat_minor": 2
}
